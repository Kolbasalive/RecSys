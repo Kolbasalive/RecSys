{
 "cells": [
  {
   "metadata": {},
   "cell_type": "markdown",
   "source": "### Полный датасет, без embeddings",
   "id": "2731fa242b91c8e6"
  },
  {
   "metadata": {
    "ExecuteTime": {
     "end_time": "2025-04-12T14:25:36.092920Z",
     "start_time": "2025-04-12T14:25:35.932200Z"
    }
   },
   "cell_type": "code",
   "source": [
    "import polars as pl\n",
    "from sklearn.metrics.pairwise import cosine_similarity\n",
    "from scipy.sparse import csr_matrix\n",
    "import numpy as np\n",
    "file_path_train_interactions = \"../data/train_interactions.parquet\"\n",
    "file_path_users_meta = \"../data/users_meta.parquet.parquet\"\n",
    "file_path_items_meta = \"../data/items_meta.parquet.parquet\"\n",
    "file_path_test_pair = \"../data/test_pairs.csv.csv\"\n",
    "\n",
    "print(\"Загружаем данные...\")\n",
    "train = pl.scan_parquet(file_path_train_interactions)\n",
    "# Первые N строк\n",
    "N = 3_000_000\n",
    "train = train.slice(0, N)\n",
    "\n",
    "print(\"Обрабатываем данные...\")\n",
    "train_i = pl.scan_parquet(file_path_items_meta)\n",
    "train_u = pl.scan_parquet(file_path_users_meta)\n",
    "train_i = train_i.drop('embeddings')\n",
    "train = train.join(train_i, on='item_id')\n",
    "train = train.join(train_u, on='user_id')\n",
    "train = train.with_columns((pl.col('timespent') / pl.col('duration')).alias('engagement_ratio'))\n",
    "print(train.collect().head())"
   ],
   "id": "57db688e8e905778",
   "outputs": [
    {
     "name": "stdout",
     "output_type": "stream",
     "text": [
      "Загружаем данные...\n",
      "Обрабатываем данные...\n",
      "shape: (5, 12)\n",
      "┌─────────┬─────────┬───────────┬──────┬───┬──────────┬────────┬─────┬──────────────────┐\n",
      "│ user_id ┆ item_id ┆ timespent ┆ like ┆ … ┆ duration ┆ gender ┆ age ┆ engagement_ratio │\n",
      "│ ---     ┆ ---     ┆ ---       ┆ ---  ┆   ┆ ---      ┆ ---    ┆ --- ┆ ---              │\n",
      "│ u32     ┆ u32     ┆ u8        ┆ u8   ┆   ┆ u8       ┆ u8     ┆ u8  ┆ f64              │\n",
      "╞═════════╪═════════╪═══════════╪══════╪═══╪══════════╪════════╪═════╪══════════════════╡\n",
      "│ 3810    ┆ 138979  ┆ 6         ┆ 0    ┆ … ┆ 54       ┆ 1      ┆ 36  ┆ 0.111111         │\n",
      "│ 101874  ┆ 331160  ┆ 6         ┆ 0    ┆ … ┆ 6        ┆ 2      ┆ 52  ┆ 1.0              │\n",
      "│ 150332  ┆ 73709   ┆ 11        ┆ 0    ┆ … ┆ 16       ┆ 1      ┆ 24  ┆ 0.6875           │\n",
      "│ 4982    ┆ 189745  ┆ 5         ┆ 0    ┆ … ┆ 25       ┆ 1      ┆ 40  ┆ 0.2              │\n",
      "│ 149601  ┆ 289643  ┆ 1         ┆ 0    ┆ … ┆ 23       ┆ 1      ┆ 34  ┆ 0.043478         │\n",
      "└─────────┴─────────┴───────────┴──────┴───┴──────────┴────────┴─────┴──────────────────┘\n"
     ]
    }
   ],
   "execution_count": 15
  },
  {
   "metadata": {
    "ExecuteTime": {
     "end_time": "2025-04-12T14:30:16.211854Z",
     "start_time": "2025-04-12T14:30:16.034807Z"
    }
   },
   "cell_type": "code",
   "source": "train.collect().head()",
   "id": "fbb0eb34a01b0037",
   "outputs": [
    {
     "data": {
      "text/plain": [
       "shape: (5, 12)\n",
       "┌─────────┬─────────┬───────────┬──────┬───┬──────────┬────────┬─────┬──────────────────┐\n",
       "│ user_id ┆ item_id ┆ timespent ┆ like ┆ … ┆ duration ┆ gender ┆ age ┆ engagement_ratio │\n",
       "│ ---     ┆ ---     ┆ ---       ┆ ---  ┆   ┆ ---      ┆ ---    ┆ --- ┆ ---              │\n",
       "│ u32     ┆ u32     ┆ u8        ┆ u8   ┆   ┆ u8       ┆ u8     ┆ u8  ┆ f64              │\n",
       "╞═════════╪═════════╪═══════════╪══════╪═══╪══════════╪════════╪═════╪══════════════════╡\n",
       "│ 3810    ┆ 138979  ┆ 6         ┆ 0    ┆ … ┆ 54       ┆ 1      ┆ 36  ┆ 0.111111         │\n",
       "│ 101874  ┆ 331160  ┆ 6         ┆ 0    ┆ … ┆ 6        ┆ 2      ┆ 52  ┆ 1.0              │\n",
       "│ 150332  ┆ 73709   ┆ 11        ┆ 0    ┆ … ┆ 16       ┆ 1      ┆ 24  ┆ 0.6875           │\n",
       "│ 4982    ┆ 189745  ┆ 5         ┆ 0    ┆ … ┆ 25       ┆ 1      ┆ 40  ┆ 0.2              │\n",
       "│ 149601  ┆ 289643  ┆ 1         ┆ 0    ┆ … ┆ 23       ┆ 1      ┆ 34  ┆ 0.043478         │\n",
       "└─────────┴─────────┴───────────┴──────┴───┴──────────┴────────┴─────┴──────────────────┘"
      ],
      "text/html": [
       "<div><style>\n",
       ".dataframe > thead > tr,\n",
       ".dataframe > tbody > tr {\n",
       "  text-align: right;\n",
       "  white-space: pre-wrap;\n",
       "}\n",
       "</style>\n",
       "<small>shape: (5, 12)</small><table border=\"1\" class=\"dataframe\"><thead><tr><th>user_id</th><th>item_id</th><th>timespent</th><th>like</th><th>dislike</th><th>share</th><th>bookmarks</th><th>source_id</th><th>duration</th><th>gender</th><th>age</th><th>engagement_ratio</th></tr><tr><td>u32</td><td>u32</td><td>u8</td><td>u8</td><td>u8</td><td>u8</td><td>u8</td><td>u32</td><td>u8</td><td>u8</td><td>u8</td><td>f64</td></tr></thead><tbody><tr><td>3810</td><td>138979</td><td>6</td><td>0</td><td>0</td><td>0</td><td>0</td><td>4278</td><td>54</td><td>1</td><td>36</td><td>0.111111</td></tr><tr><td>101874</td><td>331160</td><td>6</td><td>0</td><td>0</td><td>0</td><td>0</td><td>2049</td><td>6</td><td>2</td><td>52</td><td>1.0</td></tr><tr><td>150332</td><td>73709</td><td>11</td><td>0</td><td>0</td><td>0</td><td>0</td><td>16375</td><td>16</td><td>1</td><td>24</td><td>0.6875</td></tr><tr><td>4982</td><td>189745</td><td>5</td><td>0</td><td>0</td><td>0</td><td>0</td><td>166</td><td>25</td><td>1</td><td>40</td><td>0.2</td></tr><tr><td>149601</td><td>289643</td><td>1</td><td>0</td><td>0</td><td>1</td><td>0</td><td>1459</td><td>23</td><td>1</td><td>34</td><td>0.043478</td></tr></tbody></table></div>"
      ]
     },
     "execution_count": 21,
     "metadata": {},
     "output_type": "execute_result"
    }
   ],
   "execution_count": 21
  },
  {
   "metadata": {},
   "cell_type": "markdown",
   "source": "Простейшая реализация CatBoost",
   "id": "1c0ca797972ac152"
  },
  {
   "metadata": {
    "ExecuteTime": {
     "end_time": "2025-04-12T19:11:34.729552Z",
     "start_time": "2025-04-12T19:11:33.850695Z"
    }
   },
   "cell_type": "code",
   "source": [
    "import polars as pl\n",
    "import pandas as pd\n",
    "from catboost import CatBoostClassifier, Pool\n",
    "from sklearn.model_selection import train_test_split\n",
    "from sklearn.metrics import accuracy_score, classification_report\n",
    "\n",
    "# Целевая переменная\n",
    "df = train.with_columns(\n",
    "    pl.when(pl.col('like') == 1).then(1)\n",
    "        .when(pl.col('dislike') == 1).then(-1)\n",
    "    .otherwise(0)\n",
    "    .alias('target')\n",
    ").collect()\n",
    "\n",
    "features = ['timespent', 'share', 'bookmarks', 'source_id', 'duration',\n",
    "            'gender', 'age', 'engagement_ratio']\n",
    "\n",
    "# Разделение данных(у Polar нет своего метода деления:()\n",
    "user_ids = df.select(\"user_id\").to_pandas()[\"user_id\"].values\n",
    "X = df.select(features).to_pandas()\n",
    "y = df['target'].to_numpy()\n",
    "\n",
    "X_train, X_test, y_train, y_test, user_ids_train, user_ids_test =\\\n",
    "    train_test_split(X, y, user_ids, test_size=0.2, random_state=42)\n",
    "\n",
    "# cat_feature_indices = [features.index(cat) for cat in categorical_features]\n",
    "train_pool = Pool(X_train, y_train)\n",
    "test_pool = Pool(X_test, y_test)"
   ],
   "id": "1cde1b3d3031c492",
   "outputs": [],
   "execution_count": 58
  },
  {
   "metadata": {},
   "cell_type": "code",
   "outputs": [],
   "execution_count": null,
   "source": [
    "data_pd = df.to_pandas()\n",
    "data_pd.describe()"
   ],
   "id": "d16ad14bcf60d882"
  },
  {
   "metadata": {
    "ExecuteTime": {
     "end_time": "2025-04-12T19:11:38.689511Z",
     "start_time": "2025-04-12T19:11:38.634944Z"
    }
   },
   "cell_type": "code",
   "source": [
    "# Баланс классов\n",
    "df.group_by(\"target\").len().sort(\"target\")"
   ],
   "id": "4e007209fb6cfeb3",
   "outputs": [
    {
     "data": {
      "text/plain": [
       "shape: (3, 2)\n",
       "┌────────┬─────────┐\n",
       "│ target ┆ len     │\n",
       "│ ---    ┆ ---     │\n",
       "│ i32    ┆ u32     │\n",
       "╞════════╪═════════╡\n",
       "│ -1     ┆ 1112    │\n",
       "│ 0      ┆ 2859639 │\n",
       "│ 1      ┆ 139249  │\n",
       "└────────┴─────────┘"
      ],
      "text/html": [
       "<div><style>\n",
       ".dataframe > thead > tr,\n",
       ".dataframe > tbody > tr {\n",
       "  text-align: right;\n",
       "  white-space: pre-wrap;\n",
       "}\n",
       "</style>\n",
       "<small>shape: (3, 2)</small><table border=\"1\" class=\"dataframe\"><thead><tr><th>target</th><th>len</th></tr><tr><td>i32</td><td>u32</td></tr></thead><tbody><tr><td>-1</td><td>1112</td></tr><tr><td>0</td><td>2859639</td></tr><tr><td>1</td><td>139249</td></tr></tbody></table></div>"
      ]
     },
     "execution_count": 59,
     "metadata": {},
     "output_type": "execute_result"
    }
   ],
   "execution_count": 59
  },
  {
   "metadata": {
    "ExecuteTime": {
     "end_time": "2025-04-12T19:27:07.295452Z",
     "start_time": "2025-04-12T19:27:01.087811Z"
    }
   },
   "cell_type": "code",
   "source": [
    "params = {\n",
    "        'iterations': 7,\n",
    "        'depth': 6,\n",
    "        'learning_rate': 0.1,\n",
    "        'loss_function': 'PairLogit',  # Функция потерь для ранжирования\n",
    "        'task_type': 'CPU',\n",
    "        'thread_count': -1,\n",
    "        'verbose': 100\n",
    "}\n",
    "\n",
    "model = CatBoostClassifier(\n",
    "    iterations=20,\n",
    "    depth=6,\n",
    "    learning_rate=0.1,\n",
    "    loss_function='MultiClass',\n",
    "    verbose=10\n",
    ")\n",
    "\n",
    "model.fit(train_pool)\n",
    "y_pred = model.predict(X_test)\n",
    "\n",
    "print(\"Accuracy:\", accuracy_score(y_test, y_pred))\n",
    "# print(\"Classification Report:\\n\", classification_report(y_test, y_pred))"
   ],
   "id": "7c6580505514ce0a",
   "outputs": [
    {
     "name": "stdout",
     "output_type": "stream",
     "text": [
      "0:\tlearn: 0.9324951\ttotal: 350ms\tremaining: 6.65s\n",
      "10:\tlearn: 0.3465008\ttotal: 3.01s\tremaining: 2.46s\n",
      "19:\tlearn: 0.2248666\ttotal: 5.25s\tremaining: 0us\n",
      "Accuracy: 0.9531866666666666\n"
     ]
    }
   ],
   "execution_count": 76
  },
  {
   "metadata": {
    "ExecuteTime": {
     "end_time": "2025-04-13T08:36:44.710817Z",
     "start_time": "2025-04-13T08:36:44.453569Z"
    }
   },
   "cell_type": "code",
   "source": [
    "from catboost import CatBoostRanker\n",
    "model = CatBoostRanker(\n",
    "    loss_function='YetiRank',\n",
    "    task_type='CPU',\n",
    "    iterations=3000,\n",
    "    reg_lambda=24,\n",
    "    depth=8,\n",
    "    min_child_samples=1,\n",
    "    random_state=17,\n",
    "    learning_rate=0.05,\n",
    "    early_stopping_rounds=100,\n",
    "    verbose=100\n",
    ")\n",
    "\n",
    "model.fit(train_pool)\n",
    "y_pred = model.predict(X_test)"
   ],
   "id": "18eb790168925dba",
   "outputs": [
    {
     "ename": "CatBoostError",
     "evalue": "catboost/private/libs/target/data_providers.cpp:280: Groupwise loss/metrics require nontrivial groups",
     "output_type": "error",
     "traceback": [
      "\u001B[31m---------------------------------------------------------------------------\u001B[39m",
      "\u001B[31mCatBoostError\u001B[39m                             Traceback (most recent call last)",
      "\u001B[36mCell\u001B[39m\u001B[36m \u001B[39m\u001B[32mIn[86]\u001B[39m\u001B[32m, line 15\u001B[39m\n\u001B[32m      1\u001B[39m \u001B[38;5;28;01mfrom\u001B[39;00m\u001B[38;5;250m \u001B[39m\u001B[34;01mcatboost\u001B[39;00m\u001B[38;5;250m \u001B[39m\u001B[38;5;28;01mimport\u001B[39;00m CatBoostRanker\n\u001B[32m      2\u001B[39m model = CatBoostRanker(\n\u001B[32m      3\u001B[39m     loss_function=\u001B[33m'\u001B[39m\u001B[33mYetiRank\u001B[39m\u001B[33m'\u001B[39m,\n\u001B[32m      4\u001B[39m     task_type=\u001B[33m'\u001B[39m\u001B[33mCPU\u001B[39m\u001B[33m'\u001B[39m,\n\u001B[32m   (...)\u001B[39m\u001B[32m     12\u001B[39m     verbose=\u001B[32m100\u001B[39m\n\u001B[32m     13\u001B[39m )\n\u001B[32m---> \u001B[39m\u001B[32m15\u001B[39m \u001B[43mmodel\u001B[49m\u001B[43m.\u001B[49m\u001B[43mfit\u001B[49m\u001B[43m(\u001B[49m\u001B[43mtrain_pool\u001B[49m\u001B[43m)\u001B[49m\n\u001B[32m     16\u001B[39m y_pred = model.predict(X_test)\n",
      "\u001B[36mFile \u001B[39m\u001B[32m~\\PycharmProjects\\PythonProject\\.venv\\Lib\\site-packages\\catboost\\core.py:6283\u001B[39m, in \u001B[36mCatBoostRanker.fit\u001B[39m\u001B[34m(self, X, y, group_id, cat_features, text_features, embedding_features, pairs, graph, sample_weight, group_weight, subgroup_id, pairs_weight, baseline, use_best_model, eval_set, verbose, logging_level, plot, plot_file, column_description, verbose_eval, metric_period, silent, early_stopping_rounds, save_snapshot, snapshot_file, snapshot_interval, init_model, callbacks, log_cout, log_cerr)\u001B[39m\n\u001B[32m   6280\u001B[39m \u001B[38;5;28;01mif\u001B[39;00m \u001B[33m'\u001B[39m\u001B[33mloss_function\u001B[39m\u001B[33m'\u001B[39m \u001B[38;5;129;01min\u001B[39;00m params:\n\u001B[32m   6281\u001B[39m     CatBoostRanker._check_is_compatible_loss(params[\u001B[33m'\u001B[39m\u001B[33mloss_function\u001B[39m\u001B[33m'\u001B[39m])\n\u001B[32m-> \u001B[39m\u001B[32m6283\u001B[39m \u001B[38;5;28;43mself\u001B[39;49m\u001B[43m.\u001B[49m\u001B[43m_fit\u001B[49m\u001B[43m(\u001B[49m\u001B[43mX\u001B[49m\u001B[43m,\u001B[49m\u001B[43m \u001B[49m\u001B[43my\u001B[49m\u001B[43m,\u001B[49m\u001B[43m \u001B[49m\u001B[43mcat_features\u001B[49m\u001B[43m,\u001B[49m\u001B[43m \u001B[49m\u001B[43mtext_features\u001B[49m\u001B[43m,\u001B[49m\u001B[43m \u001B[49m\u001B[43membedding_features\u001B[49m\u001B[43m,\u001B[49m\u001B[43m \u001B[49m\u001B[43mpairs\u001B[49m\u001B[43m,\u001B[49m\u001B[43m \u001B[49m\u001B[43mgraph\u001B[49m\u001B[43m,\u001B[49m\n\u001B[32m   6284\u001B[39m \u001B[43m          \u001B[49m\u001B[43msample_weight\u001B[49m\u001B[43m,\u001B[49m\u001B[43m \u001B[49m\u001B[43mgroup_id\u001B[49m\u001B[43m,\u001B[49m\u001B[43m \u001B[49m\u001B[43mgroup_weight\u001B[49m\u001B[43m,\u001B[49m\u001B[43m \u001B[49m\u001B[43msubgroup_id\u001B[49m\u001B[43m,\u001B[49m\u001B[43m \u001B[49m\u001B[43mpairs_weight\u001B[49m\u001B[43m,\u001B[49m\u001B[43m \u001B[49m\u001B[43mbaseline\u001B[49m\u001B[43m,\u001B[49m\u001B[43m \u001B[49m\u001B[43muse_best_model\u001B[49m\u001B[43m,\u001B[49m\n\u001B[32m   6285\u001B[39m \u001B[43m          \u001B[49m\u001B[43meval_set\u001B[49m\u001B[43m,\u001B[49m\u001B[43m \u001B[49m\u001B[43mverbose\u001B[49m\u001B[43m,\u001B[49m\u001B[43m \u001B[49m\u001B[43mlogging_level\u001B[49m\u001B[43m,\u001B[49m\u001B[43m \u001B[49m\u001B[43mplot\u001B[49m\u001B[43m,\u001B[49m\u001B[43m \u001B[49m\u001B[43mplot_file\u001B[49m\u001B[43m,\u001B[49m\u001B[43m \u001B[49m\u001B[43mcolumn_description\u001B[49m\u001B[43m,\u001B[49m\u001B[43m \u001B[49m\u001B[43mverbose_eval\u001B[49m\u001B[43m,\u001B[49m\u001B[43m \u001B[49m\u001B[43mmetric_period\u001B[49m\u001B[43m,\u001B[49m\n\u001B[32m   6286\u001B[39m \u001B[43m          \u001B[49m\u001B[43msilent\u001B[49m\u001B[43m,\u001B[49m\u001B[43m \u001B[49m\u001B[43mearly_stopping_rounds\u001B[49m\u001B[43m,\u001B[49m\u001B[43m \u001B[49m\u001B[43msave_snapshot\u001B[49m\u001B[43m,\u001B[49m\u001B[43m \u001B[49m\u001B[43msnapshot_file\u001B[49m\u001B[43m,\u001B[49m\u001B[43m \u001B[49m\u001B[43msnapshot_interval\u001B[49m\u001B[43m,\u001B[49m\u001B[43m \u001B[49m\u001B[43minit_model\u001B[49m\u001B[43m,\u001B[49m\u001B[43m \u001B[49m\u001B[43mcallbacks\u001B[49m\u001B[43m,\u001B[49m\u001B[43m \u001B[49m\u001B[43mlog_cout\u001B[49m\u001B[43m,\u001B[49m\u001B[43m \u001B[49m\u001B[43mlog_cerr\u001B[49m\u001B[43m)\u001B[49m\n\u001B[32m   6287\u001B[39m \u001B[38;5;28;01mreturn\u001B[39;00m \u001B[38;5;28mself\u001B[39m\n",
      "\u001B[36mFile \u001B[39m\u001B[32m~\\PycharmProjects\\PythonProject\\.venv\\Lib\\site-packages\\catboost\\core.py:2410\u001B[39m, in \u001B[36mCatBoost._fit\u001B[39m\u001B[34m(self, X, y, cat_features, text_features, embedding_features, pairs, graph, sample_weight, group_id, group_weight, subgroup_id, pairs_weight, baseline, use_best_model, eval_set, verbose, logging_level, plot, plot_file, column_description, verbose_eval, metric_period, silent, early_stopping_rounds, save_snapshot, snapshot_file, snapshot_interval, init_model, callbacks, log_cout, log_cerr)\u001B[39m\n\u001B[32m   2407\u001B[39m allow_clear_pool = train_params[\u001B[33m\"\u001B[39m\u001B[33mallow_clear_pool\u001B[39m\u001B[33m\"\u001B[39m]\n\u001B[32m   2409\u001B[39m \u001B[38;5;28;01mwith\u001B[39;00m plot_wrapper(plot, plot_file, \u001B[33m'\u001B[39m\u001B[33mTraining plots\u001B[39m\u001B[33m'\u001B[39m, [_get_train_dir(\u001B[38;5;28mself\u001B[39m.get_params())]):\n\u001B[32m-> \u001B[39m\u001B[32m2410\u001B[39m     \u001B[38;5;28;43mself\u001B[39;49m\u001B[43m.\u001B[49m\u001B[43m_train\u001B[49m\u001B[43m(\u001B[49m\n\u001B[32m   2411\u001B[39m \u001B[43m        \u001B[49m\u001B[43mtrain_pool\u001B[49m\u001B[43m,\u001B[49m\n\u001B[32m   2412\u001B[39m \u001B[43m        \u001B[49m\u001B[43mtrain_params\u001B[49m\u001B[43m[\u001B[49m\u001B[33;43m\"\u001B[39;49m\u001B[33;43meval_sets\u001B[39;49m\u001B[33;43m\"\u001B[39;49m\u001B[43m]\u001B[49m\u001B[43m,\u001B[49m\n\u001B[32m   2413\u001B[39m \u001B[43m        \u001B[49m\u001B[43mparams\u001B[49m\u001B[43m,\u001B[49m\n\u001B[32m   2414\u001B[39m \u001B[43m        \u001B[49m\u001B[43mallow_clear_pool\u001B[49m\u001B[43m,\u001B[49m\n\u001B[32m   2415\u001B[39m \u001B[43m        \u001B[49m\u001B[43mtrain_params\u001B[49m\u001B[43m[\u001B[49m\u001B[33;43m\"\u001B[39;49m\u001B[33;43minit_model\u001B[39;49m\u001B[33;43m\"\u001B[39;49m\u001B[43m]\u001B[49m\n\u001B[32m   2416\u001B[39m \u001B[43m    \u001B[49m\u001B[43m)\u001B[49m\n\u001B[32m   2418\u001B[39m \u001B[38;5;66;03m# Have property feature_importance possibly set\u001B[39;00m\n\u001B[32m   2419\u001B[39m loss = \u001B[38;5;28mself\u001B[39m._object._get_loss_function_name()\n",
      "\u001B[36mFile \u001B[39m\u001B[32m~\\PycharmProjects\\PythonProject\\.venv\\Lib\\site-packages\\catboost\\core.py:1790\u001B[39m, in \u001B[36m_CatBoostBase._train\u001B[39m\u001B[34m(self, train_pool, test_pool, params, allow_clear_pool, init_model)\u001B[39m\n\u001B[32m   1789\u001B[39m \u001B[38;5;28;01mdef\u001B[39;00m\u001B[38;5;250m \u001B[39m\u001B[34m_train\u001B[39m(\u001B[38;5;28mself\u001B[39m, train_pool, test_pool, params, allow_clear_pool, init_model):\n\u001B[32m-> \u001B[39m\u001B[32m1790\u001B[39m     \u001B[38;5;28;43mself\u001B[39;49m\u001B[43m.\u001B[49m\u001B[43m_object\u001B[49m\u001B[43m.\u001B[49m\u001B[43m_train\u001B[49m\u001B[43m(\u001B[49m\u001B[43mtrain_pool\u001B[49m\u001B[43m,\u001B[49m\u001B[43m \u001B[49m\u001B[43mtest_pool\u001B[49m\u001B[43m,\u001B[49m\u001B[43m \u001B[49m\u001B[43mparams\u001B[49m\u001B[43m,\u001B[49m\u001B[43m \u001B[49m\u001B[43mallow_clear_pool\u001B[49m\u001B[43m,\u001B[49m\u001B[43m \u001B[49m\u001B[43minit_model\u001B[49m\u001B[43m.\u001B[49m\u001B[43m_object\u001B[49m\u001B[43m \u001B[49m\u001B[38;5;28;43;01mif\u001B[39;49;00m\u001B[43m \u001B[49m\u001B[43minit_model\u001B[49m\u001B[43m \u001B[49m\u001B[38;5;28;43;01melse\u001B[39;49;00m\u001B[43m \u001B[49m\u001B[38;5;28;43;01mNone\u001B[39;49;00m\u001B[43m)\u001B[49m\n\u001B[32m   1791\u001B[39m     \u001B[38;5;28mself\u001B[39m._set_trained_model_attributes()\n",
      "\u001B[36mFile \u001B[39m\u001B[32m_catboost.pyx:5017\u001B[39m, in \u001B[36m_catboost._CatBoost._train\u001B[39m\u001B[34m()\u001B[39m\n",
      "\u001B[36mFile \u001B[39m\u001B[32m_catboost.pyx:5066\u001B[39m, in \u001B[36m_catboost._CatBoost._train\u001B[39m\u001B[34m()\u001B[39m\n",
      "\u001B[31mCatBoostError\u001B[39m: catboost/private/libs/target/data_providers.cpp:280: Groupwise loss/metrics require nontrivial groups"
     ]
    }
   ],
   "execution_count": 86
  },
  {
   "metadata": {},
   "cell_type": "markdown",
   "source": "## Метрики",
   "id": "dc07870fdcf2c3e4"
  },
  {
   "metadata": {
    "ExecuteTime": {
     "end_time": "2025-04-12T19:37:30.284586Z",
     "start_time": "2025-04-12T19:37:30.254247Z"
    }
   },
   "cell_type": "code",
   "source": [
    "# Игнорируем класс игнора, только лайки и дизлайки\n",
    "from sklearn.metrics import roc_auc_score\n",
    "import numpy as np\n",
    "\n",
    "y_true = y_test #— реальные метки: -1, 0, 1\n",
    "y_score = y_pred #— предсказания модели от -1 до 1\n",
    "# Исключим 0\n",
    "\n",
    "mask = y_true != 0\n",
    "filtered_y_true = y_true[mask]\n",
    "filtered_y_score = y_score[mask]\n",
    "\n",
    "# Преобразуем классы: -1 -> 0, 1 -> 1\n",
    "binary_y_true = (filtered_y_true == 1).astype(int)\n",
    "\n",
    "# ROC AUC\n",
    "roc_auc = roc_auc_score(binary_y_true, filtered_y_score)\n",
    "print(\"ROC AUC:\", roc_auc)\n"
   ],
   "id": "584205f6e96a7b1b",
   "outputs": [
    {
     "name": "stdout",
     "output_type": "stream",
     "text": [
      "ROC AUC: 0.5008608012625085\n"
     ]
    }
   ],
   "execution_count": 83
  },
  {
   "metadata": {
    "ExecuteTime": {
     "end_time": "2025-04-12T19:35:29.415379Z",
     "start_time": "2025-04-12T19:35:29.189401Z"
    }
   },
   "cell_type": "code",
   "source": [
    "# Кастомная метрика\n",
    "from custom_roc_auc import custom_roc_auc\n",
    "def call_user_auc(y_pred_metric, y_true_metric, group_ids):\n",
    "    sort_idx = np.argsort(group_ids)\n",
    "    y_pred_sorted = y_pred_metric[sort_idx]\n",
    "    y_true_sorted = y_true_metric[sort_idx]\n",
    "    group_ids_sorted = group_ids[sort_idx]\n",
    "    _, group_sizes = np.unique(group_ids_sorted, return_counts=True)\n",
    "    return custom_roc_auc(y_pred_sorted, y_true_sorted, group_sizes)\n",
    "\n",
    "y_true = y_test #— реальные метки: -1, 0, 1\n",
    "y_score = y_pred #— предсказания модели от -1 до 1\n",
    "group_ids = user_ids_test\n",
    "\n",
    "y_true = np.asarray(y_true, dtype=np.float64)\n",
    "y_score = np.asarray(y_score, dtype=np.float64)\n",
    "group_ids = np.asarray(group_ids, dtype=np.int32)\n",
    "\n",
    "print(y_true.shape)  # Должен быть одномерный массив\n",
    "print(y_score.shape)  # Должен быть одномерный массив\n",
    "print(group_ids.shape)  # Должен быть одномерный массив\n",
    "\n",
    "print(type(y_true), type(y_score), type(group_ids))\n",
    "\n",
    "score = call_user_auc(y_score, y_true, group_ids)"
   ],
   "id": "29ce685fd749427f",
   "outputs": [
    {
     "name": "stdout",
     "output_type": "stream",
     "text": [
      "(600000,)\n",
      "(600000, 1)\n",
      "(600000,)\n",
      "<class 'numpy.ndarray'> <class 'numpy.ndarray'> <class 'numpy.ndarray'>\n"
     ]
    },
    {
     "ename": "TypingError",
     "evalue": "Failed in nopython mode pipeline (step: nopython frontend)\n\u001B[1m\u001B[1m\u001B[1m\u001B[1mNo implementation of function Function(<function argsort at 0x000001AB39A9E660>) found for signature:\n \n >>> argsort(array(float64, 2d, C))\n \nThere are 2 candidate implementations:\n\u001B[1m      - Of which 2 did not match due to:\n      Overload of function 'argsort': File: numba\\core\\typing\\npydecl.py: Line 368.\n        With argument(s): '(array(float64, 2d, C))':\u001B[0m\n\u001B[1m       No match.\u001B[0m\n\u001B[0m\n\u001B[0m\u001B[1mDuring: resolving callee type: Function(<function argsort at 0x000001AB39A9E660>)\u001B[0m\n\u001B[0m\u001B[1mDuring: typing of call at C:\\Users\\Mi\\PycharmProjects\\PythonProject\\custom_roc_auc.py (20)\n\u001B[0m\n\u001B[1m\nFile \"..\\custom_roc_auc.py\", line 20:\u001B[0m\n\u001B[1mdef compute_group_auc(y_pred, y_true, group_indices):\n    <source elided>\n            \n\u001B[1m        order = np.argsort(p)\n\u001B[0m        \u001B[1m^\u001B[0m\u001B[0m\n\n\u001B[0m\u001B[1mDuring: Pass nopython_type_inference\u001B[0m",
     "output_type": "error",
     "traceback": [
      "\u001B[31m---------------------------------------------------------------------------\u001B[39m",
      "\u001B[31mTypingError\u001B[39m                               Traceback (most recent call last)",
      "\u001B[36mCell\u001B[39m\u001B[36m \u001B[39m\u001B[32mIn[82]\u001B[39m\u001B[32m, line 25\u001B[39m\n\u001B[32m     21\u001B[39m \u001B[38;5;28mprint\u001B[39m(group_ids.shape)  \u001B[38;5;66;03m# Должен быть одномерный массив\u001B[39;00m\n\u001B[32m     23\u001B[39m \u001B[38;5;28mprint\u001B[39m(\u001B[38;5;28mtype\u001B[39m(y_true), \u001B[38;5;28mtype\u001B[39m(y_score), \u001B[38;5;28mtype\u001B[39m(group_ids))\n\u001B[32m---> \u001B[39m\u001B[32m25\u001B[39m score = \u001B[43mcall_user_auc\u001B[49m\u001B[43m(\u001B[49m\u001B[43my_score\u001B[49m\u001B[43m,\u001B[49m\u001B[43m \u001B[49m\u001B[43my_true\u001B[49m\u001B[43m,\u001B[49m\u001B[43m \u001B[49m\u001B[43mgroup_ids\u001B[49m\u001B[43m)\u001B[49m\n",
      "\u001B[36mCell\u001B[39m\u001B[36m \u001B[39m\u001B[32mIn[82]\u001B[39m\u001B[32m, line 9\u001B[39m, in \u001B[36mcall_user_auc\u001B[39m\u001B[34m(y_pred_metric, y_true_metric, group_ids)\u001B[39m\n\u001B[32m      7\u001B[39m group_ids_sorted = group_ids[sort_idx]\n\u001B[32m      8\u001B[39m _, group_sizes = np.unique(group_ids_sorted, return_counts=\u001B[38;5;28;01mTrue\u001B[39;00m)\n\u001B[32m----> \u001B[39m\u001B[32m9\u001B[39m \u001B[38;5;28;01mreturn\u001B[39;00m \u001B[43mcustom_roc_auc\u001B[49m\u001B[43m(\u001B[49m\u001B[43my_pred_sorted\u001B[49m\u001B[43m,\u001B[49m\u001B[43m \u001B[49m\u001B[43my_true_sorted\u001B[49m\u001B[43m,\u001B[49m\u001B[43m \u001B[49m\u001B[43mgroup_sizes\u001B[49m\u001B[43m)\u001B[49m\n",
      "\u001B[36mFile \u001B[39m\u001B[32m~\\PycharmProjects\\PythonProject\\custom_roc_auc.py:49\u001B[39m, in \u001B[36mcustom_roc_auc\u001B[39m\u001B[34m(y_pred, y_true, group_sizes)\u001B[39m\n\u001B[32m     47\u001B[39m \u001B[38;5;28;01mdef\u001B[39;00m\u001B[38;5;250m \u001B[39m\u001B[34mcustom_roc_auc\u001B[39m(y_pred, y_true, group_sizes):\n\u001B[32m     48\u001B[39m     group_indices = np.cumsum(np.concatenate(([\u001B[32m0\u001B[39m], group_sizes)))\n\u001B[32m---> \u001B[39m\u001B[32m49\u001B[39m     user_roc_auc = \u001B[43mcompute_group_auc\u001B[49m\u001B[43m(\u001B[49m\u001B[43my_pred\u001B[49m\u001B[43m,\u001B[49m\u001B[43m \u001B[49m\u001B[43my_true\u001B[49m\u001B[43m,\u001B[49m\u001B[43m \u001B[49m\u001B[43mgroup_indices\u001B[49m\u001B[43m)\u001B[49m\n\u001B[32m     50\u001B[39m     \u001B[38;5;28;01mreturn\u001B[39;00m np.nanmean(user_roc_auc)\n",
      "\u001B[36mFile \u001B[39m\u001B[32m~\\PycharmProjects\\PythonProject\\.venv\\Lib\\site-packages\\numba\\core\\dispatcher.py:424\u001B[39m, in \u001B[36m_DispatcherBase._compile_for_args\u001B[39m\u001B[34m(self, *args, **kws)\u001B[39m\n\u001B[32m    420\u001B[39m         msg = (\u001B[33mf\u001B[39m\u001B[33m\"\u001B[39m\u001B[38;5;132;01m{\u001B[39;00m\u001B[38;5;28mstr\u001B[39m(e).rstrip()\u001B[38;5;132;01m}\u001B[39;00m\u001B[33m \u001B[39m\u001B[38;5;130;01m\\n\u001B[39;00m\u001B[38;5;130;01m\\n\u001B[39;00m\u001B[33mThis error may have been caused \u001B[39m\u001B[33m\"\u001B[39m\n\u001B[32m    421\u001B[39m                \u001B[33mf\u001B[39m\u001B[33m\"\u001B[39m\u001B[33mby the following argument(s):\u001B[39m\u001B[38;5;130;01m\\n\u001B[39;00m\u001B[38;5;132;01m{\u001B[39;00margs_str\u001B[38;5;132;01m}\u001B[39;00m\u001B[38;5;130;01m\\n\u001B[39;00m\u001B[33m\"\u001B[39m)\n\u001B[32m    422\u001B[39m         e.patch_message(msg)\n\u001B[32m--> \u001B[39m\u001B[32m424\u001B[39m     \u001B[43merror_rewrite\u001B[49m\u001B[43m(\u001B[49m\u001B[43me\u001B[49m\u001B[43m,\u001B[49m\u001B[43m \u001B[49m\u001B[33;43m'\u001B[39;49m\u001B[33;43mtyping\u001B[39;49m\u001B[33;43m'\u001B[39;49m\u001B[43m)\u001B[49m\n\u001B[32m    425\u001B[39m \u001B[38;5;28;01mexcept\u001B[39;00m errors.UnsupportedError \u001B[38;5;28;01mas\u001B[39;00m e:\n\u001B[32m    426\u001B[39m     \u001B[38;5;66;03m# Something unsupported is present in the user code, add help info\u001B[39;00m\n\u001B[32m    427\u001B[39m     error_rewrite(e, \u001B[33m'\u001B[39m\u001B[33munsupported_error\u001B[39m\u001B[33m'\u001B[39m)\n",
      "\u001B[36mFile \u001B[39m\u001B[32m~\\PycharmProjects\\PythonProject\\.venv\\Lib\\site-packages\\numba\\core\\dispatcher.py:365\u001B[39m, in \u001B[36m_DispatcherBase._compile_for_args.<locals>.error_rewrite\u001B[39m\u001B[34m(e, issue_type)\u001B[39m\n\u001B[32m    363\u001B[39m     \u001B[38;5;28;01mraise\u001B[39;00m e\n\u001B[32m    364\u001B[39m \u001B[38;5;28;01melse\u001B[39;00m:\n\u001B[32m--> \u001B[39m\u001B[32m365\u001B[39m     \u001B[38;5;28;01mraise\u001B[39;00m e.with_traceback(\u001B[38;5;28;01mNone\u001B[39;00m)\n",
      "\u001B[31mTypingError\u001B[39m: Failed in nopython mode pipeline (step: nopython frontend)\n\u001B[1m\u001B[1m\u001B[1m\u001B[1mNo implementation of function Function(<function argsort at 0x000001AB39A9E660>) found for signature:\n \n >>> argsort(array(float64, 2d, C))\n \nThere are 2 candidate implementations:\n\u001B[1m      - Of which 2 did not match due to:\n      Overload of function 'argsort': File: numba\\core\\typing\\npydecl.py: Line 368.\n        With argument(s): '(array(float64, 2d, C))':\u001B[0m\n\u001B[1m       No match.\u001B[0m\n\u001B[0m\n\u001B[0m\u001B[1mDuring: resolving callee type: Function(<function argsort at 0x000001AB39A9E660>)\u001B[0m\n\u001B[0m\u001B[1mDuring: typing of call at C:\\Users\\Mi\\PycharmProjects\\PythonProject\\custom_roc_auc.py (20)\n\u001B[0m\n\u001B[1m\nFile \"..\\custom_roc_auc.py\", line 20:\u001B[0m\n\u001B[1mdef compute_group_auc(y_pred, y_true, group_indices):\n    <source elided>\n            \n\u001B[1m        order = np.argsort(p)\n\u001B[0m        \u001B[1m^\u001B[0m\u001B[0m\n\n\u001B[0m\u001B[1mDuring: Pass nopython_type_inference\u001B[0m"
     ]
    }
   ],
   "execution_count": 82
  }
 ],
 "metadata": {
  "kernelspec": {
   "display_name": "Python 3",
   "language": "python",
   "name": "python3"
  },
  "language_info": {
   "codemirror_mode": {
    "name": "ipython",
    "version": 2
   },
   "file_extension": ".py",
   "mimetype": "text/x-python",
   "name": "python",
   "nbconvert_exporter": "python",
   "pygments_lexer": "ipython2",
   "version": "2.7.6"
  }
 },
 "nbformat": 4,
 "nbformat_minor": 5
}
