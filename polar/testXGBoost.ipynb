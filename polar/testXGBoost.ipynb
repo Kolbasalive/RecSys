{
 "cells": [
  {
   "cell_type": "code",
   "id": "initial_id",
   "metadata": {
    "collapsed": true,
    "ExecuteTime": {
     "end_time": "2025-04-21T19:43:33.641572Z",
     "start_time": "2025-04-21T19:43:33.395932Z"
    }
   },
   "source": [
    "import xgboost as xgb\n",
    "import numpy as np\n",
    "import pandas as pd\n",
    "\n",
    "# Пример данных\n",
    "data = {\n",
    "    'user_id': [1, 1, 2, 2, 3],\n",
    "    'item_id': [101, 102, 101, 103, 102],\n",
    "    'feature1': [0.5, 0.7, 0.4, 0.6, 0.8],\n",
    "    'feature2': [1.2, 1.5, 1.1, 1.4, 1.8],\n",
    "    'target': [0, 2, 1, 0, 2]\n",
    "}\n",
    "\n",
    "# Преобразуем в DataFrame\n",
    "df = pd.DataFrame(data)\n",
    "\n",
    "# Получаем признаки (features) для модели\n",
    "X = df[['feature1', 'feature2']].values\n",
    "\n",
    "# Получаем метки (labels) для модели\n",
    "y = df['target'].values\n",
    "\n",
    "# Группируем данные по пользователю, т.е. все элементы для одного пользователя будут в одной группе\n",
    "# В данном примере у нас 3 пользователя, и у каждого есть несколько элементов\n",
    "group_sizes = [2, 2, 1]  # для пользователя 1 два элемента, для пользователя 2 два, для пользователя 3 один\n",
    "\n",
    "# Создаем DMatrix для обучения\n",
    "train_dmatrix = xgb.DMatrix(\n",
    "    data=X,\n",
    "    label=y\n",
    ")\n",
    "\n",
    "# Устанавливаем группы\n",
    "train_dmatrix.set_group(group_sizes)\n",
    "\n",
    "# Параметры модели\n",
    "params = {\n",
    "    'objective': 'rank:pairwise',  # Задача ранжирования\n",
    "    'eval_metric': 'ndcg'  # Метрика для оценки качества ранжирования\n",
    "}\n",
    "\n",
    "# Обучаем модель\n",
    "bst = xgb.train(params, train_dmatrix, num_boost_round=10)\n",
    "\n",
    "# Пример предсказания\n",
    "predictions = bst.predict(train_dmatrix)\n",
    "print(predictions)\n"
   ],
   "outputs": [
    {
     "name": "stdout",
     "output_type": "stream",
     "text": [
      "[0. 0. 0. 0. 0.]\n"
     ]
    }
   ],
   "execution_count": 1
  },
  {
   "metadata": {
    "ExecuteTime": {
     "end_time": "2025-04-21T19:44:57.506802Z",
     "start_time": "2025-04-21T19:44:57.496563Z"
    }
   },
   "cell_type": "code",
   "source": "df",
   "id": "92365d5756658f4a",
   "outputs": [
    {
     "data": {
      "text/plain": [
       "   user_id  item_id  feature1  feature2  target\n",
       "0        1      101       0.5       1.2       0\n",
       "1        1      102       0.7       1.5       2\n",
       "2        2      101       0.4       1.1       1\n",
       "3        2      103       0.6       1.4       0\n",
       "4        3      102       0.8       1.8       2"
      ],
      "text/html": [
       "<div>\n",
       "<style scoped>\n",
       "    .dataframe tbody tr th:only-of-type {\n",
       "        vertical-align: middle;\n",
       "    }\n",
       "\n",
       "    .dataframe tbody tr th {\n",
       "        vertical-align: top;\n",
       "    }\n",
       "\n",
       "    .dataframe thead th {\n",
       "        text-align: right;\n",
       "    }\n",
       "</style>\n",
       "<table border=\"1\" class=\"dataframe\">\n",
       "  <thead>\n",
       "    <tr style=\"text-align: right;\">\n",
       "      <th></th>\n",
       "      <th>user_id</th>\n",
       "      <th>item_id</th>\n",
       "      <th>feature1</th>\n",
       "      <th>feature2</th>\n",
       "      <th>target</th>\n",
       "    </tr>\n",
       "  </thead>\n",
       "  <tbody>\n",
       "    <tr>\n",
       "      <th>0</th>\n",
       "      <td>1</td>\n",
       "      <td>101</td>\n",
       "      <td>0.5</td>\n",
       "      <td>1.2</td>\n",
       "      <td>0</td>\n",
       "    </tr>\n",
       "    <tr>\n",
       "      <th>1</th>\n",
       "      <td>1</td>\n",
       "      <td>102</td>\n",
       "      <td>0.7</td>\n",
       "      <td>1.5</td>\n",
       "      <td>2</td>\n",
       "    </tr>\n",
       "    <tr>\n",
       "      <th>2</th>\n",
       "      <td>2</td>\n",
       "      <td>101</td>\n",
       "      <td>0.4</td>\n",
       "      <td>1.1</td>\n",
       "      <td>1</td>\n",
       "    </tr>\n",
       "    <tr>\n",
       "      <th>3</th>\n",
       "      <td>2</td>\n",
       "      <td>103</td>\n",
       "      <td>0.6</td>\n",
       "      <td>1.4</td>\n",
       "      <td>0</td>\n",
       "    </tr>\n",
       "    <tr>\n",
       "      <th>4</th>\n",
       "      <td>3</td>\n",
       "      <td>102</td>\n",
       "      <td>0.8</td>\n",
       "      <td>1.8</td>\n",
       "      <td>2</td>\n",
       "    </tr>\n",
       "  </tbody>\n",
       "</table>\n",
       "</div>"
      ]
     },
     "execution_count": 5,
     "metadata": {},
     "output_type": "execute_result"
    }
   ],
   "execution_count": 5
  },
  {
   "metadata": {
    "ExecuteTime": {
     "end_time": "2025-04-21T19:44:15.344179Z",
     "start_time": "2025-04-21T19:44:15.326842Z"
    }
   },
   "cell_type": "code",
   "source": "X",
   "id": "f96016d9003518ae",
   "outputs": [
    {
     "data": {
      "text/plain": [
       "array([[0.5, 1.2],\n",
       "       [0.7, 1.5],\n",
       "       [0.4, 1.1],\n",
       "       [0.6, 1.4],\n",
       "       [0.8, 1.8]])"
      ]
     },
     "execution_count": 2,
     "metadata": {},
     "output_type": "execute_result"
    }
   ],
   "execution_count": 2
  },
  {
   "metadata": {
    "ExecuteTime": {
     "end_time": "2025-04-21T19:44:33.520611Z",
     "start_time": "2025-04-21T19:44:33.516464Z"
    }
   },
   "cell_type": "code",
   "source": "y",
   "id": "74dbe25c041b3876",
   "outputs": [
    {
     "data": {
      "text/plain": [
       "array([0, 2, 1, 0, 2], dtype=int64)"
      ]
     },
     "execution_count": 3,
     "metadata": {},
     "output_type": "execute_result"
    }
   ],
   "execution_count": 3
  },
  {
   "metadata": {
    "ExecuteTime": {
     "end_time": "2025-04-21T19:46:34.830922Z",
     "start_time": "2025-04-21T19:46:34.821483Z"
    }
   },
   "cell_type": "code",
   "source": "train_dmatrix",
   "id": "f6955d3f747c02e6",
   "outputs": [
    {
     "data": {
      "text/plain": [
       "<xgboost.core.DMatrix at 0x22da3065010>"
      ]
     },
     "execution_count": 6,
     "metadata": {},
     "output_type": "execute_result"
    }
   ],
   "execution_count": 6
  }
 ],
 "metadata": {
  "kernelspec": {
   "display_name": "Python 3",
   "language": "python",
   "name": "python3"
  },
  "language_info": {
   "codemirror_mode": {
    "name": "ipython",
    "version": 2
   },
   "file_extension": ".py",
   "mimetype": "text/x-python",
   "name": "python",
   "nbconvert_exporter": "python",
   "pygments_lexer": "ipython2",
   "version": "2.7.6"
  }
 },
 "nbformat": 4,
 "nbformat_minor": 5
}
