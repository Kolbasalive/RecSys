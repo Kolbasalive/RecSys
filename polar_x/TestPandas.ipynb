{
 "cells": [
  {
   "metadata": {},
   "cell_type": "markdown",
   "source": "### Полный датасет, без embeddings",
   "id": "2731fa242b91c8e6"
  },
  {
   "metadata": {
    "ExecuteTime": {
     "end_time": "2025-04-13T12:13:22.609874Z",
     "start_time": "2025-04-13T12:13:22.606029Z"
    }
   },
   "cell_type": "code",
   "source": [
    "import pandas as pd\n",
    "import numpy as np\n",
    "from sklearn.model_selection import train_test_split\n",
    "from custom_roc_auc import custom_roc_auc\n",
    "from catboost import CatBoostRanker, Pool\n",
    "from itertools import product\n",
    "from sklearn.metrics.pairwise import cosine_similarity\n",
    "from scipy.sparse import csr_matrix"
   ],
   "id": "ce6433b18c5da95e",
   "outputs": [],
   "execution_count": 54
  },
  {
   "metadata": {
    "ExecuteTime": {
     "end_time": "2025-04-13T12:51:59.428590Z",
     "start_time": "2025-04-13T12:51:56.388377Z"
    }
   },
   "cell_type": "code",
   "source": [
    "file_path_train_interactions = \"../data/train_interactions.parquet\"\n",
    "file_path_users_meta = \"../data/users_meta.parquet.parquet\"\n",
    "file_path_items_meta = \"../data/items_meta.parquet.parquet\"\n",
    "file_path_test_pair = \"../data/test_pairs.csv.csv\"\n",
    "\n",
    "print(\"Загружаем данные...\")\n",
    "train = pd.read_parquet(file_path_train_interactions)\n",
    "# Первые N строк\n",
    "N = 3_000_000\n",
    "train = train.head(N)\n",
    "\n",
    "print(\"Обрабатываем данные...\")\n",
    "train_i = pd.read_parquet(file_path_items_meta)\n",
    "train_u = pd.read_parquet(file_path_users_meta)\n",
    "train_i = train_i.drop(columns='embeddings', errors='ignore')\n",
    "train = train.merge(train_i, how='left', on='item_id', sort=False)\n",
    "train = train.merge(train_u, how='left', on='user_id', sort=False)\n",
    "train['engagement_ratio'] = train['timespent'] / train['duration']\n",
    "train.head()"
   ],
   "id": "57db688e8e905778",
   "outputs": [
    {
     "name": "stdout",
     "output_type": "stream",
     "text": [
      "Загружаем данные...\n",
      "Обрабатываем данные...\n"
     ]
    },
    {
     "data": {
      "text/plain": [
       "   user_id  item_id  timespent  like  dislike  share  bookmarks  source_id  \\\n",
       "0     3810   138979          6     0        0      0          0       4278   \n",
       "1   101874   331160          6     0        0      0          0       2049   \n",
       "2   150332    73709         11     0        0      0          0      16375   \n",
       "3     4982   189745          5     0        0      0          0        166   \n",
       "4   149601   289643          1     0        0      1          0       1459   \n",
       "\n",
       "   duration  gender  age  engagement_ratio  \n",
       "0        54       1   36          0.111111  \n",
       "1         6       2   52          1.000000  \n",
       "2        16       1   24          0.687500  \n",
       "3        25       1   40          0.200000  \n",
       "4        23       1   34          0.043478  "
      ],
      "text/html": [
       "<div>\n",
       "<style scoped>\n",
       "    .dataframe tbody tr th:only-of-type {\n",
       "        vertical-align: middle;\n",
       "    }\n",
       "\n",
       "    .dataframe tbody tr th {\n",
       "        vertical-align: top;\n",
       "    }\n",
       "\n",
       "    .dataframe thead th {\n",
       "        text-align: right;\n",
       "    }\n",
       "</style>\n",
       "<table border=\"1\" class=\"dataframe\">\n",
       "  <thead>\n",
       "    <tr style=\"text-align: right;\">\n",
       "      <th></th>\n",
       "      <th>user_id</th>\n",
       "      <th>item_id</th>\n",
       "      <th>timespent</th>\n",
       "      <th>like</th>\n",
       "      <th>dislike</th>\n",
       "      <th>share</th>\n",
       "      <th>bookmarks</th>\n",
       "      <th>source_id</th>\n",
       "      <th>duration</th>\n",
       "      <th>gender</th>\n",
       "      <th>age</th>\n",
       "      <th>engagement_ratio</th>\n",
       "    </tr>\n",
       "  </thead>\n",
       "  <tbody>\n",
       "    <tr>\n",
       "      <th>0</th>\n",
       "      <td>3810</td>\n",
       "      <td>138979</td>\n",
       "      <td>6</td>\n",
       "      <td>0</td>\n",
       "      <td>0</td>\n",
       "      <td>0</td>\n",
       "      <td>0</td>\n",
       "      <td>4278</td>\n",
       "      <td>54</td>\n",
       "      <td>1</td>\n",
       "      <td>36</td>\n",
       "      <td>0.111111</td>\n",
       "    </tr>\n",
       "    <tr>\n",
       "      <th>1</th>\n",
       "      <td>101874</td>\n",
       "      <td>331160</td>\n",
       "      <td>6</td>\n",
       "      <td>0</td>\n",
       "      <td>0</td>\n",
       "      <td>0</td>\n",
       "      <td>0</td>\n",
       "      <td>2049</td>\n",
       "      <td>6</td>\n",
       "      <td>2</td>\n",
       "      <td>52</td>\n",
       "      <td>1.000000</td>\n",
       "    </tr>\n",
       "    <tr>\n",
       "      <th>2</th>\n",
       "      <td>150332</td>\n",
       "      <td>73709</td>\n",
       "      <td>11</td>\n",
       "      <td>0</td>\n",
       "      <td>0</td>\n",
       "      <td>0</td>\n",
       "      <td>0</td>\n",
       "      <td>16375</td>\n",
       "      <td>16</td>\n",
       "      <td>1</td>\n",
       "      <td>24</td>\n",
       "      <td>0.687500</td>\n",
       "    </tr>\n",
       "    <tr>\n",
       "      <th>3</th>\n",
       "      <td>4982</td>\n",
       "      <td>189745</td>\n",
       "      <td>5</td>\n",
       "      <td>0</td>\n",
       "      <td>0</td>\n",
       "      <td>0</td>\n",
       "      <td>0</td>\n",
       "      <td>166</td>\n",
       "      <td>25</td>\n",
       "      <td>1</td>\n",
       "      <td>40</td>\n",
       "      <td>0.200000</td>\n",
       "    </tr>\n",
       "    <tr>\n",
       "      <th>4</th>\n",
       "      <td>149601</td>\n",
       "      <td>289643</td>\n",
       "      <td>1</td>\n",
       "      <td>0</td>\n",
       "      <td>0</td>\n",
       "      <td>1</td>\n",
       "      <td>0</td>\n",
       "      <td>1459</td>\n",
       "      <td>23</td>\n",
       "      <td>1</td>\n",
       "      <td>34</td>\n",
       "      <td>0.043478</td>\n",
       "    </tr>\n",
       "  </tbody>\n",
       "</table>\n",
       "</div>"
      ]
     },
     "execution_count": 81,
     "metadata": {},
     "output_type": "execute_result"
    }
   ],
   "execution_count": 81
  },
  {
   "metadata": {
    "ExecuteTime": {
     "end_time": "2025-04-13T12:52:10.129420Z",
     "start_time": "2025-04-13T12:52:09.790618Z"
    }
   },
   "cell_type": "code",
   "source": [
    "# Формирование таргета и фичей. Разбивка датасета.\n",
    "# user_ids - массив со всеми уникальными пользователями.\n",
    "\n",
    "df = train.copy()  # Создаем копию, чтобы не изменять исходный DataFrame\n",
    "df['target'] = np.select(\n",
    "    [df['like'] == 1, df['dislike'] == 1],\n",
    "    [1, -1],\n",
    "    default=0\n",
    ")\n",
    "\n",
    "features = ['timespent', 'share', 'bookmarks', 'source_id', 'duration',\n",
    "            'gender', 'age', 'engagement_ratio']\n",
    "\n",
    "user_ids = df['user_id'].values\n",
    "X = df[features]\n",
    "y = df['target'].values\n",
    "\n",
    "X_train, X_test, y_train, y_test, user_ids_train, user_ids_test =\\\n",
    "    train_test_split(X, y, user_ids, test_size=0.2, random_state=42)"
   ],
   "id": "5187f70c1158c49",
   "outputs": [],
   "execution_count": 83
  },
  {
   "metadata": {},
   "cell_type": "markdown",
   "source": "Простейшая реализация CatBoost",
   "id": "1c0ca797972ac152"
  },
  {
   "metadata": {
    "ExecuteTime": {
     "end_time": "2025-04-13T12:52:12.127656Z",
     "start_time": "2025-04-13T12:52:12.090850Z"
    }
   },
   "cell_type": "code",
   "source": [
    "train_pool = Pool(X_train, y_train)\n",
    "test_pool = Pool(X_test, y_test)\n",
    "user_ids_train"
   ],
   "id": "1cde1b3d3031c492",
   "outputs": [
    {
     "data": {
      "text/plain": [
       "array([ 83735, 121792,  31437, ..., 154351, 132277,  54535], dtype=uint32)"
      ]
     },
     "execution_count": 84,
     "metadata": {},
     "output_type": "execute_result"
    }
   ],
   "execution_count": 84
  },
  {
   "metadata": {
    "ExecuteTime": {
     "end_time": "2025-04-13T15:59:06.505514Z",
     "start_time": "2025-04-13T15:59:06.464056Z"
    }
   },
   "cell_type": "code",
   "source": "df.columns()",
   "id": "d16ad14bcf60d882",
   "outputs": [
    {
     "ename": "TypeError",
     "evalue": "'Index' object is not callable",
     "output_type": "error",
     "traceback": [
      "\u001B[31m---------------------------------------------------------------------------\u001B[39m",
      "\u001B[31mTypeError\u001B[39m                                 Traceback (most recent call last)",
      "\u001B[36mCell\u001B[39m\u001B[36m \u001B[39m\u001B[32mIn[90]\u001B[39m\u001B[32m, line 1\u001B[39m\n\u001B[32m----> \u001B[39m\u001B[32m1\u001B[39m \u001B[43mdf\u001B[49m\u001B[43m.\u001B[49m\u001B[43mcolumns\u001B[49m\u001B[43m(\u001B[49m\u001B[43m)\u001B[49m\n",
      "\u001B[31mTypeError\u001B[39m: 'Index' object is not callable"
     ]
    }
   ],
   "execution_count": 90
  },
  {
   "metadata": {
    "ExecuteTime": {
     "end_time": "2025-04-13T12:52:16.210357Z",
     "start_time": "2025-04-13T12:52:15.804997Z"
    }
   },
   "cell_type": "code",
   "source": [
    "# Группировка и сортировка данных для CatBoost\n",
    "# Временные переменные\n",
    "\n",
    "X = X_train\n",
    "y = y_train\n",
    "group_id = user_ids_train\n",
    "\n",
    "# Сортировка по user_id\n",
    "sorted_idx = np.argsort(group_id)\n",
    "X = X.iloc[sorted_idx].reset_index(drop=True)\n",
    "y = np.array(y)[sorted_idx]\n",
    "group_id = np.array(group_id)[sorted_idx]\n",
    "\n",
    "# group_sizes - массив, содержащий кол-во объектов в каждой группе.\n",
    "# То есть, количество роликов у каждого пользователя\n",
    "group_sizes = (\n",
    "    pd.Series(group_id)\n",
    "    .value_counts()\n",
    "    .sort_index()\n",
    "    .values\n",
    ")\n"
   ],
   "id": "66dc664e1989e699",
   "outputs": [],
   "execution_count": 85
  },
  {
   "metadata": {
    "ExecuteTime": {
     "end_time": "2025-04-13T12:52:19.779144Z",
     "start_time": "2025-04-13T12:52:18.177458Z"
    }
   },
   "cell_type": "code",
   "source": [
    "model = CatBoostRanker(\n",
    "    loss_function='YetiRank',\n",
    "    task_type='CPU',\n",
    "    iterations=1,\n",
    "    reg_lambda=24,\n",
    "    depth=5,\n",
    "    min_child_samples=1,\n",
    "    random_state=17,\n",
    "    learning_rate=0.05,\n",
    "    early_stopping_rounds=100,\n",
    "    verbose=100\n",
    ")\n",
    "\n",
    "model.fit(\n",
    "    X, y,\n",
    "    group_id=group_id\n",
    ")\n"
   ],
   "id": "5db2c09b3b739b98",
   "outputs": [
    {
     "name": "stdout",
     "output_type": "stream",
     "text": [
      "0:\ttotal: 765ms\tremaining: 0us\n"
     ]
    },
    {
     "data": {
      "text/plain": [
       "<catboost.core.CatBoostRanker at 0x23d9af66c90>"
      ]
     },
     "execution_count": 86,
     "metadata": {},
     "output_type": "execute_result"
    }
   ],
   "execution_count": 86
  },
  {
   "metadata": {
    "ExecuteTime": {
     "end_time": "2025-04-13T12:52:21.786437Z",
     "start_time": "2025-04-13T12:52:21.750620Z"
    }
   },
   "cell_type": "code",
   "source": [
    "y_pred = model.predict(X_test)\n",
    "print(custom_roc_auc(y_pred, y_test, group_sizes))\n",
    "\n"
   ],
   "id": "18eb790168925dba",
   "outputs": [
    {
     "name": "stdout",
     "output_type": "stream",
     "text": [
      "0.6730139462289033\n"
     ]
    }
   ],
   "execution_count": 87
  },
  {
   "metadata": {
    "ExecuteTime": {
     "end_time": "2025-04-13T12:20:51.421038Z",
     "start_time": "2025-04-13T12:20:51.373567Z"
    }
   },
   "cell_type": "code",
   "source": "y_pred_train = model.predict(X_train)",
   "id": "ac44e93652c943f4",
   "outputs": [],
   "execution_count": 59
  },
  {
   "metadata": {
    "ExecuteTime": {
     "end_time": "2025-04-13T12:41:39.515583Z",
     "start_time": "2025-04-13T12:41:39.473820Z"
    }
   },
   "cell_type": "code",
   "source": [
    "print(custom_roc_auc(y_pred, y_test, group_sizes))\n",
    "print(custom_roc_auc(y_pred_train, y_train, group_sizes))"
   ],
   "id": "83c6dbe3e20bea3c",
   "outputs": [
    {
     "name": "stdout",
     "output_type": "stream",
     "text": [
      "0.7437825076799527\n",
      "0.741833746021551\n"
     ]
    }
   ],
   "execution_count": 68
  },
  {
   "metadata": {
    "ExecuteTime": {
     "end_time": "2025-04-13T12:32:48.719349Z",
     "start_time": "2025-04-13T12:32:03.376193Z"
    }
   },
   "cell_type": "code",
   "source": [
    "# Перебор гиперпараметров\n",
    "\n",
    "param_grid = {\n",
    "    'depth': [5],\n",
    "    'learning_rate': [0.05],\n",
    "    'reg_lambda': [10, 24],\n",
    "    'iterations': [1, 10, 20],\n",
    "}\n",
    "\n",
    "combinations = list(product(*param_grid.values()))\n",
    "param_names = list(param_grid.keys())\n",
    "\n",
    "for combo in combinations:\n",
    "    params = dict(zip(param_names, combo))\n",
    "\n",
    "    print(f\"📦 Testing params: {params}\")\n",
    "\n",
    "    model = CatBoostRanker(\n",
    "        loss_function='YetiRank',\n",
    "        task_type='CPU',\n",
    "        early_stopping_rounds=100,\n",
    "        verbose=False,\n",
    "        random_state=17,\n",
    "        min_child_samples=1,\n",
    "        **params\n",
    "    )\n",
    "\n",
    "    model.fit(X, y, group_id=group_id)\n",
    "\n",
    "    y_pred = model.predict(X_test)\n",
    "    score = custom_roc_auc(y_pred, y_test, user_ids_test)\n",
    "\n",
    "    print(f\"✅ AUC score: {score:.6f}\\n\")\n"
   ],
   "id": "2b118cc6db114b02",
   "outputs": [
    {
     "name": "stdout",
     "output_type": "stream",
     "text": [
      "📦 Testing params: {'depth': 5, 'learning_rate': 0.05, 'reg_lambda': 10, 'iterations': 1}\n",
      "✅ AUC score: 0.747202\n",
      "\n",
      "📦 Testing params: {'depth': 5, 'learning_rate': 0.05, 'reg_lambda': 10, 'iterations': 10}\n",
      "✅ AUC score: 0.743306\n",
      "\n",
      "📦 Testing params: {'depth': 5, 'learning_rate': 0.05, 'reg_lambda': 10, 'iterations': 20}\n",
      "✅ AUC score: 0.741273\n",
      "\n",
      "📦 Testing params: {'depth': 5, 'learning_rate': 0.05, 'reg_lambda': 24, 'iterations': 1}\n",
      "✅ AUC score: 0.746867\n",
      "\n",
      "📦 Testing params: {'depth': 5, 'learning_rate': 0.05, 'reg_lambda': 24, 'iterations': 10}\n",
      "✅ AUC score: 0.743795\n",
      "\n",
      "📦 Testing params: {'depth': 5, 'learning_rate': 0.05, 'reg_lambda': 24, 'iterations': 20}\n",
      "✅ AUC score: 0.741309\n",
      "\n"
     ]
    }
   ],
   "execution_count": 64
  },
  {
   "metadata": {},
   "cell_type": "markdown",
   "source": "## Метрики",
   "id": "dc07870fdcf2c3e4"
  },
  {
   "metadata": {
    "ExecuteTime": {
     "end_time": "2025-04-12T19:37:30.284586Z",
     "start_time": "2025-04-12T19:37:30.254247Z"
    }
   },
   "cell_type": "code",
   "source": [
    "# Игнорируем класс игнора, только лайки и дизлайки\n",
    "from sklearn.metrics import roc_auc_score\n",
    "import numpy as np\n",
    "\n",
    "y_true = y_test #— реальные метки: -1, 0, 1\n",
    "y_score = y_pred #— предсказания модели от -1 до 1\n",
    "# Исключим 0\n",
    "\n",
    "mask = y_true != 0\n",
    "filtered_y_true = y_true[mask]\n",
    "filtered_y_score = y_score[mask]\n",
    "\n",
    "# Преобразуем классы: -1 -> 0, 1 -> 1\n",
    "binary_y_true = (filtered_y_true == 1).astype(int)\n",
    "\n",
    "# ROC AUC\n",
    "roc_auc = roc_auc_score(binary_y_true, filtered_y_score)\n",
    "print(\"ROC AUC:\", roc_auc)\n"
   ],
   "id": "584205f6e96a7b1b",
   "outputs": [
    {
     "name": "stdout",
     "output_type": "stream",
     "text": [
      "ROC AUC: 0.5008608012625085\n"
     ]
    }
   ],
   "execution_count": 83
  }
 ],
 "metadata": {
  "kernelspec": {
   "display_name": "Python 3",
   "language": "python",
   "name": "python3"
  },
  "language_info": {
   "codemirror_mode": {
    "name": "ipython",
    "version": 2
   },
   "file_extension": ".py",
   "mimetype": "text/x-python",
   "name": "python",
   "nbconvert_exporter": "python",
   "pygments_lexer": "ipython2",
   "version": "2.7.6"
  }
 },
 "nbformat": 4,
 "nbformat_minor": 5
}
